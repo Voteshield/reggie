{
 "cells": [
  {
   "cell_type": "code",
   "execution_count": 1,
   "id": "applied-preliminary",
   "metadata": {},
   "outputs": [
    {
     "name": "stderr",
     "output_type": "stream",
     "text": [
      "INFO:botocore.credentials:Found credentials in shared credentials file: ~/.aws/credentials\n"
     ]
    }
   ],
   "source": [
    "from reggie.ingestion.utils import format_column_name\n",
    "from reggie.configs.configs import Config\n",
    "import logging\n",
    "import pandas as pd\n",
    "import numpy as np\n",
    "import datetime\n",
    "from io import StringIO\n",
    "from datetime import datetime\n",
    "import time\n",
    "import numpy as np\n",
    "from functools import reduce\n",
    "from collections import defaultdict, OrderedDict\n",
    "from dateutil import parser\n",
    "import json\n",
    "%load_ext line_profiler\n",
    "import os"
   ]
  },
  {
   "cell_type": "code",
   "execution_count": 2,
   "id": "massive-traveler",
   "metadata": {},
   "outputs": [],
   "source": [
    "entries = os.listdir('/home/tommi/Downloads/OK 2021-03-06/OK 2021-03-06/CTYSW_VR_20210308110648')"
   ]
  },
  {
   "cell_type": "code",
   "execution_count": 3,
   "id": "cognitive-floor",
   "metadata": {},
   "outputs": [],
   "source": [
    "vdf = pd.DataFrame()"
   ]
  },
  {
   "cell_type": "code",
   "execution_count": 4,
   "id": "expired-polyester",
   "metadata": {},
   "outputs": [],
   "source": [
    "dtypes = {'MuniSub': 'float64'}"
   ]
  },
  {
   "cell_type": "code",
   "execution_count": 5,
   "id": "exciting-presence",
   "metadata": {},
   "outputs": [],
   "source": [
    "for file in entries:\n",
    "    if 'CTY' in file:\n",
    "        temp_df = pd.read_csv('/home/tommi/Downloads/OK 2021-03-06/OK 2021-03-06/CTYSW_VR_20210308110648/' + file, encoding='latin', low_memory=False, dtype=dtypes)\n",
    "        vdf = pd.concat([vdf, temp_df], ignore_index=True)\n"
   ]
  },
  {
   "cell_type": "code",
   "execution_count": 6,
   "id": "intimate-headset",
   "metadata": {},
   "outputs": [],
   "source": [
    "# vdf = pd.read_csv('/home/tommi/Downloads/OK 2021-03-06/OK 2021-03-06/CTYSW_VR_20210308110648/CTY01_vr.csv')\n",
    "precincts = pd.read_csv('/home/tommi/Downloads/OK 2021-03-06/OK 2021-03-06/CTYSW_VR_20210308110648/precincts.csv')\n",
    "# vdf2 = pd.read_csv('/home/tommi/Downloads/OK 2021-03-06/OK 2021-03-06/CTYSW_VR_20210308110648/CTY02_vr.csv')"
   ]
  },
  {
   "cell_type": "code",
   "execution_count": 7,
   "id": "going-owner",
   "metadata": {},
   "outputs": [
    {
     "data": {
      "text/plain": [
       "Index(['Precinct', 'LastName', 'FirstName', 'MiddleName', 'Suffix', 'VoterID',\n",
       "       'PolitalAff', 'Status', 'StreetNum', 'StreetDir', 'StreetName',\n",
       "       'StreetType', 'StreetPostDir', 'BldgNum', 'City', 'Zip', 'DateOfBirth',\n",
       "       'OriginalRegistration', 'MailStreet1', 'MailStreet2', 'MailCity',\n",
       "       'MailState', 'MailZip', 'Muni', 'MuniSub', 'School', 'SchoolSub',\n",
       "       'TechCenter', 'TechCenterSub', 'CountyComm', 'VoterHist1',\n",
       "       'HistMethod1', 'VoterHist2', 'HistMethod2', 'VoterHist3', 'HistMethod3',\n",
       "       'VoterHist4', 'HistMethod4', 'VoterHist5', 'HistMethod5', 'VoterHist6',\n",
       "       'HistMethod6', 'VoterHist7', 'HistMethod7', 'VoterHist8', 'HistMethod8',\n",
       "       'VoterHist9', 'HistMethod9', 'VoterHist10', 'HistMethod10'],\n",
       "      dtype='object')"
      ]
     },
     "execution_count": 7,
     "metadata": {},
     "output_type": "execute_result"
    }
   ],
   "source": [
    "vdf.columns"
   ]
  },
  {
   "cell_type": "code",
   "execution_count": 8,
   "id": "cultural-manitoba",
   "metadata": {},
   "outputs": [],
   "source": [
    "precincts.rename(columns={\"PrecinctCode\": \"Precinct\"}, inplace=True)\n",
    "\n",
    "# This is an attempt to make a dict, but creating multiple columns based on a dict lookup might not be worth it\n",
    "# as it requires use of the map feature, merging at the end might just be faster. OK isn't huge anyway\n",
    "# precincts.set_index(\"Precinct\", inplace=True)\n",
    "# precinct_dict = precincts.to_dict('Index')"
   ]
  },
  {
   "cell_type": "code",
   "execution_count": 9,
   "id": "missing-upper",
   "metadata": {},
   "outputs": [],
   "source": [
    "unholy_union = vdf.merge(precincts, how='left', on='Precinct')"
   ]
  },
  {
   "cell_type": "code",
   "execution_count": 10,
   "id": "preliminary-terrorist",
   "metadata": {},
   "outputs": [
    {
     "data": {
      "text/plain": [
       "Index(['Precinct', 'LastName', 'FirstName', 'MiddleName', 'Suffix', 'VoterID',\n",
       "       'PolitalAff', 'Status', 'StreetNum', 'StreetDir', 'StreetName',\n",
       "       'StreetType', 'StreetPostDir', 'BldgNum', 'City', 'Zip', 'DateOfBirth',\n",
       "       'OriginalRegistration', 'MailStreet1', 'MailStreet2', 'MailCity',\n",
       "       'MailState', 'MailZip', 'Muni', 'MuniSub', 'School', 'SchoolSub',\n",
       "       'TechCenter', 'TechCenterSub', 'CountyComm', 'VoterHist1',\n",
       "       'HistMethod1', 'VoterHist2', 'HistMethod2', 'VoterHist3', 'HistMethod3',\n",
       "       'VoterHist4', 'HistMethod4', 'VoterHist5', 'HistMethod5', 'VoterHist6',\n",
       "       'HistMethod6', 'VoterHist7', 'HistMethod7', 'VoterHist8', 'HistMethod8',\n",
       "       'VoterHist9', 'HistMethod9', 'VoterHist10', 'HistMethod10',\n",
       "       'CongressionalDistrict', 'StateSenateDistrict', 'StateHouseDistrict',\n",
       "       'CountyCommissioner', 'PollSite'],\n",
       "      dtype='object')"
      ]
     },
     "execution_count": 10,
     "metadata": {},
     "output_type": "execute_result"
    }
   ],
   "source": [
    "unholy_union.columns"
   ]
  },
  {
   "cell_type": "code",
   "execution_count": 11,
   "id": "rotary-invasion",
   "metadata": {},
   "outputs": [
    {
     "data": {
      "text/plain": [
       "False"
      ]
     },
     "execution_count": 11,
     "metadata": {},
     "output_type": "execute_result"
    }
   ],
   "source": [
    "unholy_union['PolitalAff'].isnull().values.any()"
   ]
  },
  {
   "cell_type": "code",
   "execution_count": 12,
   "id": "hollywood-print",
   "metadata": {
    "scrolled": false
   },
   "outputs": [
    {
     "name": "stdout",
     "output_type": "stream",
     "text": [
      "Precinct [<class 'int'>] False\n",
      "LastName [<class 'str'> <class 'float'>] True\n",
      "FirstName [<class 'str'> <class 'float'>] True\n",
      "MiddleName [<class 'str'> <class 'float'>] True\n",
      "Suffix [<class 'float'> <class 'str'>] True\n",
      "VoterID [<class 'int'>] False\n",
      "PolitalAff [<class 'str'>] False\n",
      "Status [<class 'str'>] False\n",
      "StreetNum [<class 'str'> <class 'float'> <class 'int'>] True\n",
      "StreetDir [<class 'str'> <class 'float'>] True\n",
      "StreetName [<class 'str'> <class 'float'>] True\n",
      "StreetType [<class 'str'> <class 'float'>] True\n",
      "StreetPostDir [<class 'float'> <class 'str'>] True\n",
      "BldgNum [<class 'str'> <class 'float'>] True\n",
      "City [<class 'str'> <class 'float'>] True\n",
      "Zip [<class 'str'> <class 'float'>] True\n",
      "DateOfBirth [<class 'str'> <class 'float'>] True\n",
      "OriginalRegistration [<class 'str'> <class 'float'>] True\n",
      "MailStreet1 [<class 'str'> <class 'float'>] True\n",
      "MailStreet2 [<class 'float'> <class 'str'>] True\n",
      "MailCity [<class 'str'> <class 'float'>] True\n",
      "MailState [<class 'str'> <class 'float'>] True\n",
      "MailZip [<class 'str'> <class 'float'>] True\n",
      "Muni [<class 'str'> <class 'float'>] True\n",
      "MuniSub [<class 'float'>] True\n",
      "School [<class 'str'> <class 'float'>] True\n",
      "SchoolSub [<class 'float'>] True\n",
      "TechCenter [<class 'str'> <class 'float'>] True\n",
      "TechCenterSub [<class 'float'> <class 'str'> <class 'int'>] True\n",
      "CountyComm [<class 'int'> <class 'str'>] False\n",
      "VoterHist1 [<class 'str'> <class 'float'>] True\n",
      "HistMethod1 [<class 'str'> <class 'float'>] True\n",
      "VoterHist2 [<class 'float'> <class 'str'>] True\n",
      "HistMethod2 [<class 'float'> <class 'str'>] True\n",
      "VoterHist3 [<class 'float'> <class 'str'>] True\n",
      "HistMethod3 [<class 'float'> <class 'str'>] True\n",
      "VoterHist4 [<class 'float'> <class 'str'>] True\n",
      "HistMethod4 [<class 'float'> <class 'str'>] True\n",
      "VoterHist5 [<class 'float'> <class 'str'>] True\n",
      "HistMethod5 [<class 'float'> <class 'str'>] True\n",
      "VoterHist6 [<class 'float'> <class 'str'>] True\n",
      "HistMethod6 [<class 'float'> <class 'str'>] True\n",
      "VoterHist7 [<class 'float'> <class 'str'>] True\n",
      "HistMethod7 [<class 'float'> <class 'str'>] True\n",
      "VoterHist8 [<class 'float'> <class 'str'>] True\n",
      "HistMethod8 [<class 'float'> <class 'str'>] True\n",
      "VoterHist9 [<class 'float'> <class 'str'>] True\n",
      "HistMethod9 [<class 'float'> <class 'str'>] True\n",
      "VoterHist10 [<class 'float'> <class 'str'>] True\n",
      "HistMethod10 [<class 'float'> <class 'str'>] True\n",
      "CongressionalDistrict [<class 'int'>] False\n",
      "StateSenateDistrict [<class 'int'>] False\n",
      "StateHouseDistrict [<class 'int'>] False\n",
      "CountyCommissioner [<class 'int'>] False\n",
      "PollSite [<class 'str'>] False\n"
     ]
    }
   ],
   "source": [
    "unholy_union[\"VoterID\"]\n",
    "for x in unholy_union.columns:\n",
    "    print(x, unholy_union[x].apply(type).unique(), unholy_union[x].isnull().values.any())"
   ]
  },
  {
   "cell_type": "code",
   "execution_count": 14,
   "id": "explicit-block",
   "metadata": {},
   "outputs": [
    {
     "data": {
      "text/plain": [
       "array(['11/03/2020', '06/26/2018', nan, '02/11/2020', '11/06/2018',\n",
       "       '11/08/2016', '02/12/2019', '06/30/2020', '04/02/2019',\n",
       "       '03/03/2020', '11/06/2012', '11/12/2013', '08/26/2014',\n",
       "       '02/14/2017', '04/03/2012', '06/24/2014', '11/04/2014',\n",
       "       '02/12/2013', '03/01/2016', '03/03/2015', '04/04/2017',\n",
       "       '02/13/2018', '06/28/2016', '04/02/2013', '04/01/2014',\n",
       "       '11/07/2006', '07/27/2004', '08/28/2018', '10/13/2009',\n",
       "       '02/09/2016', '11/04/2008', '11/02/2010', '06/26/2012',\n",
       "       '08/23/2016', '09/10/2019', '01/08/2019', '05/09/2006',\n",
       "       '02/10/2015', '10/08/2013', '02/11/2014', '08/22/2006',\n",
       "       '08/25/2020', '11/14/2017', '08/27/2002', '05/14/2013',\n",
       "       '05/10/2011', '04/03/2018', '08/28/2012', '11/02/2004',\n",
       "       '02/10/2009', '08/11/2015', '03/06/2018', '07/14/2015',\n",
       "       '04/07/2015', '11/07/2000', '02/09/2010', '07/27/2010',\n",
       "       '09/08/2009', '06/11/2013', '03/02/2021', '04/05/2016',\n",
       "       '02/09/2021', '06/09/2015', '11/10/2015', '02/05/2008',\n",
       "       '09/12/2017', '11/12/2019', '03/06/2012', '12/12/2006',\n",
       "       '09/13/2005', '03/12/2002', '05/13/2008', '07/25/2006',\n",
       "       '11/05/2002', '12/14/2010', '10/11/2011', '03/13/2001',\n",
       "       '03/06/2007', '10/09/2007', '05/09/2017', '07/29/2008',\n",
       "       '11/08/2005', '03/07/2017', '09/13/2011', '04/05/2011',\n",
       "       '02/08/2011', '04/07/2009', '03/02/2010', '02/13/2007',\n",
       "       '04/01/2003', '02/14/2006', '02/14/2012', '04/03/2007',\n",
       "       '06/13/2017', '12/08/2009', '03/01/2011', '01/10/2017',\n",
       "       '01/12/2021', '02/13/2001', '04/06/2010', '03/05/2013',\n",
       "       '03/04/2014', '07/11/2017', '03/05/2019', '01/09/2018',\n",
       "       '08/13/2013', '12/09/2008', '08/13/2019', '01/14/2014',\n",
       "       '09/10/2013', '10/10/2017', '01/13/2015', '10/13/2015',\n",
       "       '02/08/2005', '05/12/2015', '05/12/2009', '07/09/2019',\n",
       "       '05/14/2019', '08/24/2010', '03/01/2005', '11/08/2011',\n",
       "       '01/08/2013', '09/25/2001', '03/04/2008', '09/08/2015',\n",
       "       '10/08/2019', '01/14/2020', '11/13/2001', '03/03/2009',\n",
       "       '04/01/2008', '04/03/2001', '09/17/2002', '01/11/2011',\n",
       "       '01/12/2016', '07/09/2013', '10/11/2005', '08/26/2008',\n",
       "       '02/11/2003', '08/14/2007', '09/09/2003', '01/13/2009',\n",
       "       '04/05/2005', '02/03/2004', '11/10/2009', '08/12/2003',\n",
       "       '08/24/2004', '06/12/2001', '01/08/2008', '04/06/2004',\n",
       "       '09/19/2000', '07/12/2011', '12/12/2017', '05/10/2005',\n",
       "       '02/08/2000', '08/08/2017', '11/13/2007', '12/10/2019',\n",
       "       '01/08/2002', '04/04/2006', '03/15/2005', '05/13/2003',\n",
       "       '04/06/2021', '03/07/2006', '08/09/2011', '06/11/2019',\n",
       "       '12/13/2005', '12/14/2004', '08/22/2000', '12/11/2007',\n",
       "       '05/11/2010', '07/08/2003', '03/08/2005', '01/12/2010',\n",
       "       '02/12/2002', '09/14/1999', '03/29/2005', '07/10/2007',\n",
       "       '05/09/2000', '05/11/2004', '05/08/2001', '12/10/2002',\n",
       "       '06/09/2009', '06/12/2007', '03/04/2003', '11/09/1999',\n",
       "       '05/08/2007', '06/14/2011', '09/11/2007', '08/09/2005',\n",
       "       '03/16/2004', '07/14/2009', '01/11/2005'], dtype=object)"
      ]
     },
     "execution_count": 14,
     "metadata": {},
     "output_type": "execute_result"
    }
   ],
   "source": [
    "unholy_union['VoterHist1'].unique()"
   ]
  },
  {
   "cell_type": "code",
   "execution_count": null,
   "id": "herbal-anger",
   "metadata": {},
   "outputs": [],
   "source": []
  }
 ],
 "metadata": {
  "kernelspec": {
   "display_name": "Python 3",
   "language": "python",
   "name": "python3"
  },
  "language_info": {
   "codemirror_mode": {
    "name": "ipython",
    "version": 3
   },
   "file_extension": ".py",
   "mimetype": "text/x-python",
   "name": "python",
   "nbconvert_exporter": "python",
   "pygments_lexer": "ipython3",
   "version": "3.8.5"
  }
 },
 "nbformat": 4,
 "nbformat_minor": 5
}

{
 "cells": [
  {
   "cell_type": "code",
   "execution_count": 1,
   "id": "introductory-april",
   "metadata": {},
   "outputs": [
    {
     "name": "stderr",
     "output_type": "stream",
     "text": [
      "INFO:botocore.credentials:Found credentials in shared credentials file: ~/.aws/credentials\n"
     ]
    }
   ],
   "source": [
    "from reggie.ingestion.download import (\n",
    "    Preprocessor,\n",
    "    date_from_str,\n",
    "    FileItem,\n",
    "    concat_and_delete,\n",
    ")\n",
    "from dateutil import parser\n",
    "from reggie.ingestion.utils import MissingNumColumnsError, format_column_name\n",
    "import logging\n",
    "import pandas as pd\n",
    "from reggie.configs.configs import Config\n",
    "import numpy as np\n",
    "from datetime import datetime\n",
    "from io import StringIO, BytesIO, SEEK_END, SEEK_SET\n",
    "import numpy as np\n",
    "from datetime import datetime\n",
    "import gc\n",
    "import json\n",
    "import os\n",
    "import math\n",
    "%load_ext line_profiler\n"
   ]
  },
  {
   "cell_type": "code",
   "execution_count": 2,
   "id": "moderate-poverty",
   "metadata": {},
   "outputs": [],
   "source": [
    "config = Config(state='oklahoma')"
   ]
  },
  {
   "cell_type": "code",
   "execution_count": 3,
   "id": "rolled-beauty",
   "metadata": {},
   "outputs": [],
   "source": [
    "voter_files = os.listdir('/home/tommi/Downloads/OK 2021-03-06/OK 2021-03-06/CTYSW_VR_20210308110648/temp')\n",
    "hist_files = os.listdir('/home/tommi/Downloads/OK 2021-03-06/OK 2021-03-06/CTYSW_VH_20210308110646')"
   ]
  },
  {
   "cell_type": "code",
   "execution_count": 4,
   "id": "crude-movie",
   "metadata": {},
   "outputs": [],
   "source": [
    "voter_files = [n for n in voter_files if \"vr.csv\" in n.lower()]\n",
    "hist_files = [n for n in hist_files if \"vh.csv\" in n.lower()]"
   ]
  },
  {
   "cell_type": "code",
   "execution_count": 5,
   "id": "sound-underground",
   "metadata": {},
   "outputs": [],
   "source": [
    "vdf = pd.DataFrame()\n",
    "dtypes = config['dtypes']\n",
    "cty_map = config['county_codes']"
   ]
  },
  {
   "cell_type": "code",
   "execution_count": 18,
   "id": "through-liberia",
   "metadata": {},
   "outputs": [],
   "source": [
    "def county_map(pct):\n",
    "    def mapping(prec):\n",
    "        county = cty_map[prec[:2]]\n",
    "        # constant time yo\n",
    "        print(cty_map['Adair'])\n",
    "#         county = cty_map[cty_num]\n",
    "        print(prec)\n",
    "        print(cty_num)\n",
    "#         print(prec, type(prec), prec[:2])\n",
    "        print(county)\n",
    "#         return county\n",
    "    return pd.Series(\n",
    "        map(mapping, pct.tolist())\n",
    "    )\n",
    "# why use strings when ints are better\n",
    "# .values.astype(str)"
   ]
  },
  {
   "cell_type": "code",
   "execution_count": 22,
   "id": "referenced-refund",
   "metadata": {},
   "outputs": [
    {
     "name": "stdout",
     "output_type": "stream",
     "text": [
      "CTY03_vr.csv\n",
      "0       30011\n",
      "1       30001\n",
      "2       30008\n",
      "3       30011\n",
      "4       30007\n",
      "        ...  \n",
      "7733    30006\n",
      "7734    30006\n",
      "7735    30011\n",
      "7736    30015\n",
      "7737    30009\n",
      "Name: Precinct, Length: 7738, dtype: int64\n",
      "      Precinct    LastName  FirstName     MiddleName Suffix    VoterID  \\\n",
      "0        30011     GOODSON  JOHNATHAN          BRENT   <NA>  800823829   \n",
      "1        30001     CASSIDY     TERESA           JEAN   <NA>  802091498   \n",
      "2        30008  INABINETTE   VICTORIA            REA   <NA>  802091782   \n",
      "3        30011     JENKINS     AUSTIN  TYLER EUBANKS   <NA>  801541030   \n",
      "4        30007       BATES      JAMES         EDWARD     JR  801541039   \n",
      "...        ...         ...        ...            ...    ...        ...   \n",
      "7733     30006   MCFEETERS     VIVIAN          ADELL   <NA>  802853950   \n",
      "7734     30006        BUSS    RICHARD         EUGENE   <NA>  802847439   \n",
      "7735     30011      HARVEY    SPENCER         MARLOW   <NA>  802847442   \n",
      "7736     30015   STARLEIGH     RONALD           LYNN   <NA>  802847449   \n",
      "7737     30009   MCMICHAEL       KYLE           <NA>   <NA>  802858502   \n",
      "\n",
      "     PolitalAff Status StreetNum StreetDir  ...  VoterHist6 HistMethod6  \\\n",
      "0           REP      A       560        SW  ...  06/26/2018          IP   \n",
      "1           REP      A       460         N  ...        <NA>        <NA>   \n",
      "2           DEM      A     14592         S  ...        <NA>        <NA>   \n",
      "3           REP      A     12681         E  ...        <NA>        <NA>   \n",
      "4           DEM      A       639         S  ...        <NA>        <NA>   \n",
      "...         ...    ...       ...       ...  ...         ...         ...   \n",
      "7733        REP      A      4888         S  ...        <NA>        <NA>   \n",
      "7734        REP      A      2850         S  ...        <NA>        <NA>   \n",
      "7735        REP      A      7738         E  ...        <NA>        <NA>   \n",
      "7736        REP      A      8040         S  ...        <NA>        <NA>   \n",
      "7737        REP      A      6155         S  ...        <NA>        <NA>   \n",
      "\n",
      "      VoterHist7 HistMethod7 VoterHist8 HistMethod8 VoterHist9 HistMethod9  \\\n",
      "0     02/13/2018          IP       <NA>        <NA>       <NA>        <NA>   \n",
      "1           <NA>        <NA>       <NA>        <NA>       <NA>        <NA>   \n",
      "2           <NA>        <NA>       <NA>        <NA>       <NA>        <NA>   \n",
      "3           <NA>        <NA>       <NA>        <NA>       <NA>        <NA>   \n",
      "4           <NA>        <NA>       <NA>        <NA>       <NA>        <NA>   \n",
      "...          ...         ...        ...         ...        ...         ...   \n",
      "7733        <NA>        <NA>       <NA>        <NA>       <NA>        <NA>   \n",
      "7734        <NA>        <NA>       <NA>        <NA>       <NA>        <NA>   \n",
      "7735        <NA>        <NA>       <NA>        <NA>       <NA>        <NA>   \n",
      "7736        <NA>        <NA>       <NA>        <NA>       <NA>        <NA>   \n",
      "7737        <NA>        <NA>       <NA>        <NA>       <NA>        <NA>   \n",
      "\n",
      "     VoterHist10 HistMethod10  \n",
      "0           <NA>         <NA>  \n",
      "1           <NA>         <NA>  \n",
      "2           <NA>         <NA>  \n",
      "3           <NA>         <NA>  \n",
      "4           <NA>         <NA>  \n",
      "...          ...          ...  \n",
      "7733        <NA>         <NA>  \n",
      "7734        <NA>         <NA>  \n",
      "7735        <NA>         <NA>  \n",
      "7736        <NA>         <NA>  \n",
      "7737        <NA>         <NA>  \n",
      "\n",
      "[7738 rows x 50 columns]\n",
      "1\n",
      "30011\n",
      "30\n"
     ]
    },
    {
     "ename": "NameError",
     "evalue": "name 'county' is not defined",
     "output_type": "error",
     "traceback": [
      "\u001b[0;31m---------------------------------------------------------------------------\u001b[0m",
      "\u001b[0;31mNameError\u001b[0m                                 Traceback (most recent call last)",
      "\u001b[0;32m<ipython-input-22-ae78fba3f51e>\u001b[0m in \u001b[0;36m<module>\u001b[0;34m\u001b[0m\n\u001b[1;32m      4\u001b[0m     \u001b[0mprint\u001b[0m\u001b[0;34m(\u001b[0m\u001b[0mtemp_df\u001b[0m\u001b[0;34m[\u001b[0m\u001b[0;34m'Precinct'\u001b[0m\u001b[0;34m]\u001b[0m\u001b[0;34m)\u001b[0m\u001b[0;34m\u001b[0m\u001b[0;34m\u001b[0m\u001b[0m\n\u001b[1;32m      5\u001b[0m     \u001b[0mprint\u001b[0m\u001b[0;34m(\u001b[0m\u001b[0mtemp_df\u001b[0m\u001b[0;34m)\u001b[0m\u001b[0;34m\u001b[0m\u001b[0;34m\u001b[0m\u001b[0m\n\u001b[0;32m----> 6\u001b[0;31m     \u001b[0mtemp_df\u001b[0m\u001b[0;34m[\u001b[0m\u001b[0;34m'county'\u001b[0m\u001b[0;34m]\u001b[0m \u001b[0;34m=\u001b[0m \u001b[0mcounty_map\u001b[0m\u001b[0;34m(\u001b[0m\u001b[0mtemp_df\u001b[0m\u001b[0;34m[\u001b[0m\u001b[0;34m'Precinct'\u001b[0m\u001b[0;34m]\u001b[0m\u001b[0;34m)\u001b[0m\u001b[0;34m\u001b[0m\u001b[0;34m\u001b[0m\u001b[0m\n\u001b[0m\u001b[1;32m      7\u001b[0m     \u001b[0mvdf\u001b[0m \u001b[0;34m=\u001b[0m \u001b[0mpd\u001b[0m\u001b[0;34m.\u001b[0m\u001b[0mconcat\u001b[0m\u001b[0;34m(\u001b[0m\u001b[0;34m[\u001b[0m\u001b[0mvdf\u001b[0m\u001b[0;34m,\u001b[0m \u001b[0mtemp_df\u001b[0m\u001b[0;34m]\u001b[0m\u001b[0;34m,\u001b[0m \u001b[0mignore_index\u001b[0m\u001b[0;34m=\u001b[0m\u001b[0;32mTrue\u001b[0m\u001b[0;34m)\u001b[0m\u001b[0;34m\u001b[0m\u001b[0;34m\u001b[0m\u001b[0m\n",
      "\u001b[0;32m<ipython-input-18-a10411d945aa>\u001b[0m in \u001b[0;36mcounty_map\u001b[0;34m(pct)\u001b[0m\n\u001b[1;32m     11\u001b[0m         \u001b[0mprint\u001b[0m\u001b[0;34m(\u001b[0m\u001b[0mcounty\u001b[0m\u001b[0;34m)\u001b[0m\u001b[0;34m\u001b[0m\u001b[0;34m\u001b[0m\u001b[0m\n\u001b[1;32m     12\u001b[0m \u001b[0;31m#         return county\u001b[0m\u001b[0;34m\u001b[0m\u001b[0;34m\u001b[0m\u001b[0;34m\u001b[0m\u001b[0m\n\u001b[0;32m---> 13\u001b[0;31m     return pd.Series(\n\u001b[0m\u001b[1;32m     14\u001b[0m         \u001b[0mmap\u001b[0m\u001b[0;34m(\u001b[0m\u001b[0mmapping\u001b[0m\u001b[0;34m,\u001b[0m \u001b[0mpct\u001b[0m\u001b[0;34m.\u001b[0m\u001b[0mtolist\u001b[0m\u001b[0;34m(\u001b[0m\u001b[0;34m)\u001b[0m\u001b[0;34m)\u001b[0m\u001b[0;34m\u001b[0m\u001b[0;34m\u001b[0m\u001b[0m\n\u001b[1;32m     15\u001b[0m     )\n",
      "\u001b[0;32m~/.cache/pypoetry/virtualenvs/inspector-nJVqbbXH-py3.8/lib/python3.8/site-packages/pandas/core/series.py\u001b[0m in \u001b[0;36m__init__\u001b[0;34m(self, data, index, dtype, name, copy, fastpath)\u001b[0m\n\u001b[1;32m    299\u001b[0m                 \u001b[0;32mraise\u001b[0m \u001b[0mTypeError\u001b[0m\u001b[0;34m(\u001b[0m\u001b[0;34mf\"'{type(data).__name__}' type is unordered\"\u001b[0m\u001b[0;34m)\u001b[0m\u001b[0;34m\u001b[0m\u001b[0;34m\u001b[0m\u001b[0m\n\u001b[1;32m    300\u001b[0m             \u001b[0;32melse\u001b[0m\u001b[0;34m:\u001b[0m\u001b[0;34m\u001b[0m\u001b[0;34m\u001b[0m\u001b[0m\n\u001b[0;32m--> 301\u001b[0;31m                 \u001b[0mdata\u001b[0m \u001b[0;34m=\u001b[0m \u001b[0mcom\u001b[0m\u001b[0;34m.\u001b[0m\u001b[0mmaybe_iterable_to_list\u001b[0m\u001b[0;34m(\u001b[0m\u001b[0mdata\u001b[0m\u001b[0;34m)\u001b[0m\u001b[0;34m\u001b[0m\u001b[0;34m\u001b[0m\u001b[0m\n\u001b[0m\u001b[1;32m    302\u001b[0m \u001b[0;34m\u001b[0m\u001b[0m\n\u001b[1;32m    303\u001b[0m             \u001b[0;32mif\u001b[0m \u001b[0mindex\u001b[0m \u001b[0;32mis\u001b[0m \u001b[0;32mNone\u001b[0m\u001b[0;34m:\u001b[0m\u001b[0;34m\u001b[0m\u001b[0;34m\u001b[0m\u001b[0m\n",
      "\u001b[0;32m~/.cache/pypoetry/virtualenvs/inspector-nJVqbbXH-py3.8/lib/python3.8/site-packages/pandas/core/common.py\u001b[0m in \u001b[0;36mmaybe_iterable_to_list\u001b[0;34m(obj)\u001b[0m\n\u001b[1;32m    277\u001b[0m     \"\"\"\n\u001b[1;32m    278\u001b[0m     \u001b[0;32mif\u001b[0m \u001b[0misinstance\u001b[0m\u001b[0;34m(\u001b[0m\u001b[0mobj\u001b[0m\u001b[0;34m,\u001b[0m \u001b[0mabc\u001b[0m\u001b[0;34m.\u001b[0m\u001b[0mIterable\u001b[0m\u001b[0;34m)\u001b[0m \u001b[0;32mand\u001b[0m \u001b[0;32mnot\u001b[0m \u001b[0misinstance\u001b[0m\u001b[0;34m(\u001b[0m\u001b[0mobj\u001b[0m\u001b[0;34m,\u001b[0m \u001b[0mabc\u001b[0m\u001b[0;34m.\u001b[0m\u001b[0mSized\u001b[0m\u001b[0;34m)\u001b[0m\u001b[0;34m:\u001b[0m\u001b[0;34m\u001b[0m\u001b[0;34m\u001b[0m\u001b[0m\n\u001b[0;32m--> 279\u001b[0;31m         \u001b[0;32mreturn\u001b[0m \u001b[0mlist\u001b[0m\u001b[0;34m(\u001b[0m\u001b[0mobj\u001b[0m\u001b[0;34m)\u001b[0m\u001b[0;34m\u001b[0m\u001b[0;34m\u001b[0m\u001b[0m\n\u001b[0m\u001b[1;32m    280\u001b[0m     \u001b[0;32mreturn\u001b[0m \u001b[0mobj\u001b[0m\u001b[0;34m\u001b[0m\u001b[0;34m\u001b[0m\u001b[0m\n\u001b[1;32m    281\u001b[0m \u001b[0;34m\u001b[0m\u001b[0m\n",
      "\u001b[0;32m<ipython-input-18-a10411d945aa>\u001b[0m in \u001b[0;36mmapping\u001b[0;34m(prec)\u001b[0m\n\u001b[1;32m      9\u001b[0m         \u001b[0mprint\u001b[0m\u001b[0;34m(\u001b[0m\u001b[0mcty_num\u001b[0m\u001b[0;34m)\u001b[0m\u001b[0;34m\u001b[0m\u001b[0;34m\u001b[0m\u001b[0m\n\u001b[1;32m     10\u001b[0m \u001b[0;31m#         print(prec, type(prec), prec[:2])\u001b[0m\u001b[0;34m\u001b[0m\u001b[0;34m\u001b[0m\u001b[0;34m\u001b[0m\u001b[0m\n\u001b[0;32m---> 11\u001b[0;31m         \u001b[0mprint\u001b[0m\u001b[0;34m(\u001b[0m\u001b[0mcounty\u001b[0m\u001b[0;34m)\u001b[0m\u001b[0;34m\u001b[0m\u001b[0;34m\u001b[0m\u001b[0m\n\u001b[0m\u001b[1;32m     12\u001b[0m \u001b[0;31m#         return county\u001b[0m\u001b[0;34m\u001b[0m\u001b[0;34m\u001b[0m\u001b[0;34m\u001b[0m\u001b[0m\n\u001b[1;32m     13\u001b[0m     return pd.Series(\n",
      "\u001b[0;31mNameError\u001b[0m: name 'county' is not defined"
     ]
    }
   ],
   "source": [
    "for file in voter_files:\n",
    "    print(file)\n",
    "    temp_df = pd.read_csv('/home/tommi/Downloads/OK 2021-03-06/OK 2021-03-06/CTYSW_VR_20210308110648/' + file, encoding='latin', dtype=dtypes)\n",
    "    print(temp_df['Precinct'])\n",
    "    print(temp_df)\n",
    "    temp_df['county'] = county_map(temp_df['Precinct'])\n",
    "    vdf = pd.concat([vdf, temp_df], ignore_index=True)"
   ]
  },
  {
   "cell_type": "code",
   "execution_count": null,
   "id": "excess-rescue",
   "metadata": {},
   "outputs": [],
   "source": []
  },
  {
   "cell_type": "code",
   "execution_count": null,
   "id": "streaming-bruce",
   "metadata": {},
   "outputs": [],
   "source": []
  }
 ],
 "metadata": {
  "kernelspec": {
   "display_name": "Python 3",
   "language": "python",
   "name": "python3"
  },
  "language_info": {
   "codemirror_mode": {
    "name": "ipython",
    "version": 3
   },
   "file_extension": ".py",
   "mimetype": "text/x-python",
   "name": "python",
   "nbconvert_exporter": "python",
   "pygments_lexer": "ipython3",
   "version": "3.8.5"
  }
 },
 "nbformat": 4,
 "nbformat_minor": 5
}
